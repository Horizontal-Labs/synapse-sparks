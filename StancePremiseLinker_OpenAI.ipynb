{
  "nbformat": 4,
  "nbformat_minor": 0,
  "metadata": {
    "colab": {
      "provenance": []
    },
    "kernelspec": {
      "name": "python3",
      "display_name": "Python 3"
    },
    "language_info": {
      "name": "python"
    }
  },
  "cells": [
    {
      "cell_type": "code",
      "execution_count": 1,
      "metadata": {
        "id": "Bx1pq1EcQIMx"
      },
      "outputs": [],
      "source": [
        "import openai\n",
        "import json\n",
        "from pydantic import BaseModel, ValidationError\n",
        "from typing import List, Literal, Optional\n",
        "from getpass import getpass"
      ]
    },
    {
      "cell_type": "code",
      "source": [
        "api_key = getpass(\"🔐 Enter your OpenAI API key: \")\n",
        "client = openai.OpenAI(api_key=api_key)"
      ],
      "metadata": {
        "colab": {
          "base_uri": "https://localhost:8080/"
        },
        "id": "jgXxI6JaQVQo",
        "outputId": "cd63b751-8742-4338-ab6f-ee9c8f47c07b"
      },
      "execution_count": 2,
      "outputs": [
        {
          "name": "stdout",
          "output_type": "stream",
          "text": [
            "🔐 Enter your OpenAI API key: ··········\n"
          ]
        }
      ]
    },
    {
      "cell_type": "code",
      "source": [
        "# --- Pydantic Models ---\n",
        "\n",
        "class Claim(BaseModel):\n",
        "    text: str\n",
        "\n",
        "class Premise(BaseModel):\n",
        "    text: str\n",
        "\n",
        "class LinkedPremise(BaseModel):\n",
        "    premise_text: str\n",
        "    linked_claim_text: Optional[str] #can be none\n",
        "\n",
        "class LinkingOutput(BaseModel):\n",
        "    linked_premises: List[LinkedPremise]"
      ],
      "metadata": {
        "id": "hHvmVGqPQY04"
      },
      "execution_count": 10,
      "outputs": []
    },
    {
      "cell_type": "code",
      "source": [
        "# --- Function to Link Premises to Claims ---\n",
        "\n",
        "def link_premises_to_claims(claims: List[Claim], premises: List[Premise]) -> LinkingOutput:\n",
        "    system_prompt = \"\"\"\n",
        "You are an expert in argument mining. Your job is to link PREMISES to the CLAIMS they support or attack.\n",
        "\n",
        "Instructions:\n",
        "- You will receive a list of CLAIMS and a list of PREMISES.\n",
        "- Each premise belongs to at least one claim.\n",
        "- linked_claim_text (must match a claim or be null if no match)\n",
        "- Return a valid JSON response in this format:\n",
        "\n",
        "{\n",
        "  \"linked_premises\": [\n",
        "    {\n",
        "      \"premise_text\": \"...\",\n",
        "      \"linked_claim_text\": \"...\"\n",
        "    }\n",
        "  ]\n",
        "}\n",
        "Only return the JSON. Do not include explanations.\n",
        "\"\"\"\n",
        "\n",
        "    # Build the user prompt\n",
        "    user_prompt = \"CLAIMS:\\n\"\n",
        "    for claim in claims:\n",
        "        user_prompt += f\"- {claim.text}\\n\"\n",
        "\n",
        "    user_prompt += \"\\nPREMISES:\\n\"\n",
        "    for premise in premises:\n",
        "        user_prompt += f\"- {premise.text}\\n\"\n",
        "\n",
        "    # Call OpenAI with the new SDK style\n",
        "    response = client.chat.completions.create(\n",
        "        model=\"gpt-4\",\n",
        "        messages=[\n",
        "            {\"role\": \"system\", \"content\": system_prompt.strip()},\n",
        "            {\"role\": \"user\", \"content\": user_prompt.strip()}\n",
        "        ],\n",
        "        temperature=0.2\n",
        "    )\n",
        "\n",
        "    raw_output = response.choices[0].message.content\n",
        "\n",
        "    try:\n",
        "        data = json.loads(raw_output)\n",
        "        return LinkingOutput(**data)\n",
        "    except (json.JSONDecodeError, ValidationError) as e:\n",
        "        print(\"❌ Failed to parse or validate OpenAI output.\")\n",
        "        print(\"Raw Output:\\n\", raw_output)\n",
        "        raise e"
      ],
      "metadata": {
        "id": "tii1ZeJNQdTE"
      },
      "execution_count": 13,
      "outputs": []
    },
    {
      "cell_type": "code",
      "source": [
        "# --- Example Usage ---\n",
        "\n",
        "if __name__ == \"__main__\":\n",
        "    claims_data = [\n",
        "    {\n",
        "      \"text\": \"Remote work improves employee productivity.\"\n",
        "    },\n",
        "    {\n",
        "      \"text\": \"EVs have zero tailpipe emissions.\"\n",
        "    },\n",
        "    {\n",
        "      \"text\": \"AI-generated images mimic style but lack original thought.\"\n",
        "    },\n",
        "    {\n",
        "      \"text\": \"3D-printed organs with the help of AI could reduce transplant wait times.\"\n",
        "    }]\n",
        "    premises_data = [\n",
        "    {\n",
        "      \"text\": \"People working remotely often report fewer distractions and better focus.\"\n",
        "    },\n",
        "    {\n",
        "      \"text\": \"Most EVs are charged with electricity generated from fossil fuels.\"\n",
        "    }\n",
        "  ]\n",
        "\n",
        "    # Create Pydantic model instances from the data\n",
        "    claims = [Claim(**c) for c in claims_data]\n",
        "    premises = [Premise(**p) for p in premises_data] # Removed stance=\"pro\"\n",
        "\n",
        "    result = link_premises_to_claims(claims, premises)\n",
        "    print(result.model_dump_json(indent=2))"
      ],
      "metadata": {
        "colab": {
          "base_uri": "https://localhost:8080/"
        },
        "id": "DkFXUwLtQ0GD",
        "outputId": "d3634215-ae58-449a-c992-d85b1844b738"
      },
      "execution_count": 14,
      "outputs": [
        {
          "output_type": "stream",
          "name": "stdout",
          "text": [
            "{\n",
            "  \"linked_premises\": [\n",
            "    {\n",
            "      \"premise_text\": \"People working remotely often report fewer distractions and better focus.\",\n",
            "      \"linked_claim_text\": \"Remote work improves employee productivity.\"\n",
            "    },\n",
            "    {\n",
            "      \"premise_text\": \"Most EVs are charged with electricity generated from fossil fuels.\",\n",
            "      \"linked_claim_text\": \"EVs have zero tailpipe emissions.\"\n",
            "    }\n",
            "  ]\n",
            "}\n"
          ]
        }
      ]
    },
    {
      "cell_type": "code",
      "source": [
        "from google.colab import files\n",
        "import json\n",
        "\n",
        "# Save the linked output\n",
        "with open(\"output.json\", \"w\") as f:\n",
        "    json.dump(result.model_dump(), f, indent=2)\n",
        "\n",
        "# Download to local machine\n",
        "files.download(\"output.json\")\n"
      ],
      "metadata": {
        "colab": {
          "base_uri": "https://localhost:8080/",
          "height": 17
        },
        "id": "Oihb7ZoBhMiV",
        "outputId": "9890bdca-d9b4-44ec-e031-01506f38ef2a"
      },
      "execution_count": 15,
      "outputs": [
        {
          "output_type": "display_data",
          "data": {
            "text/plain": [
              "<IPython.core.display.Javascript object>"
            ],
            "application/javascript": [
              "\n",
              "    async function download(id, filename, size) {\n",
              "      if (!google.colab.kernel.accessAllowed) {\n",
              "        return;\n",
              "      }\n",
              "      const div = document.createElement('div');\n",
              "      const label = document.createElement('label');\n",
              "      label.textContent = `Downloading \"${filename}\": `;\n",
              "      div.appendChild(label);\n",
              "      const progress = document.createElement('progress');\n",
              "      progress.max = size;\n",
              "      div.appendChild(progress);\n",
              "      document.body.appendChild(div);\n",
              "\n",
              "      const buffers = [];\n",
              "      let downloaded = 0;\n",
              "\n",
              "      const channel = await google.colab.kernel.comms.open(id);\n",
              "      // Send a message to notify the kernel that we're ready.\n",
              "      channel.send({})\n",
              "\n",
              "      for await (const message of channel.messages) {\n",
              "        // Send a message to notify the kernel that we're ready.\n",
              "        channel.send({})\n",
              "        if (message.buffers) {\n",
              "          for (const buffer of message.buffers) {\n",
              "            buffers.push(buffer);\n",
              "            downloaded += buffer.byteLength;\n",
              "            progress.value = downloaded;\n",
              "          }\n",
              "        }\n",
              "      }\n",
              "      const blob = new Blob(buffers, {type: 'application/binary'});\n",
              "      const a = document.createElement('a');\n",
              "      a.href = window.URL.createObjectURL(blob);\n",
              "      a.download = filename;\n",
              "      div.appendChild(a);\n",
              "      a.click();\n",
              "      div.remove();\n",
              "    }\n",
              "  "
            ]
          },
          "metadata": {}
        },
        {
          "output_type": "display_data",
          "data": {
            "text/plain": [
              "<IPython.core.display.Javascript object>"
            ],
            "application/javascript": [
              "download(\"download_d9c25bb8-bbc7-4d20-bf1a-672f74e3f85c\", \"output.json\", 382)"
            ]
          },
          "metadata": {}
        }
      ]
    }
  ]
}
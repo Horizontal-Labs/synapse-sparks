{
  "cells": [
    {
      "cell_type": "code",
      "execution_count": null,
      "metadata": {
        "id": "XOh9RifUsvnW"
      },
      "outputs": [],
      "source": [
        "import openai\n",
        "from typing import List\n",
        "from pydantic import BaseModel\n",
        "import json"
      ]
    },
    {
      "cell_type": "code",
      "execution_count": null,
      "metadata": {
        "id": "-LjAgPN5dy_H"
      },
      "outputs": [],
      "source": [
        "from openai import OpenAI\n",
        "client = OpenAI(api_key=\"sk-\")\n",
        "openai.api_key = \"sk-\""
      ]
    },
    {
      "cell_type": "code",
      "execution_count": null,
      "metadata": {
        "id": "xFLLOU7mc7sg"
      },
      "outputs": [],
      "source": [
        "# --- Pydantic Models ---\n",
        "class Claim(BaseModel):\n",
        "    text: str\n",
        "\n",
        "class PremiseUnlabeled(BaseModel):\n",
        "    text: str\n",
        "\n",
        "class ADUClassificationOutput(BaseModel):\n",
        "    claims: List[Claim]\n",
        "    premises: List[PremiseUnlabeled]"
      ]
    },
    {
      "cell_type": "code",
      "execution_count": null,
      "metadata": {
        "id": "1dAgg2cPvwdr"
      },
      "outputs": [],
      "source": [
        "paragraph = \"Remote work improves employee productivity. People working remotely often report fewer distractions and better focus. EVs have zero tailpipe emissions. Most EVs are charged with electricity generated from fossil fuels. AI-generated images mimic style but lack original thought. 3D-printed organs with the help of AI could reduce transplant wait times.\""
      ]
    },
    {
      "cell_type": "code",
      "execution_count": null,
      "metadata": {
        "id": "6BQ5HBHVtAFa"
      },
      "outputs": [],
      "source": [
        "def classify_adu(text: str) -> ADUClassificationOutput:\n",
        "    prompt = f\"\"\"\n",
        "You are an expert in argument mining. Your job is to classify each sentence in the text as either a CLAIM or a PREMISE.\n",
        "\n",
        "Instructions:\n",
        "- You will receive a text.\n",
        "- Each sentence in the text is either a claim or a premise.\n",
        "- Return a valid JSON response in this format:\n",
        "{{\n",
        "  \"claims\": [{{\"text\": \"...\"}}],\n",
        "  \"premises\": [{{\"text\": \"...\"}}]\n",
        "}}\n",
        "\n",
        "Paragraph:\n",
        "\\\"\\\"\\\"\n",
        "{text}\n",
        "\\\"\\\"\\\"\n",
        "Only return the JSON. Do not include explanations.\n",
        "\"\"\"\n",
        "    response = client.chat.completions.create(\n",
        "        model=\"gpt-4.1-mini\",\n",
        "        messages=[{\"role\": \"user\", \"content\": prompt}],\n",
        "        temperature=0.2,\n",
        "        response_format={\"type\": \"json_object\"}\n",
        "    )\n",
        "    return ADUClassificationOutput.model_validate_json(response.choices[0].message.content)"
      ]
    },
    {
      "cell_type": "code",
      "execution_count": null,
      "metadata": {
        "colab": {
          "base_uri": "https://localhost:8080/"
        },
        "id": "o9Cb9yP4GLTg",
        "outputId": "d16b1221-006e-4a52-b23b-1ecff7420bab"
      },
      "outputs": [
        {
          "name": "stdout",
          "output_type": "stream",
          "text": [
            "{\n",
            "  \"claims\": [\n",
            "    {\n",
            "      \"text\": \"Remote work improves employee productivity.\"\n",
            "    },\n",
            "    {\n",
            "      \"text\": \"EVs have zero tailpipe emissions.\"\n",
            "    },\n",
            "    {\n",
            "      \"text\": \"AI-generated images mimic style but lack original thought.\"\n",
            "    },\n",
            "    {\n",
            "      \"text\": \"3D-printed organs with the help of AI could reduce transplant wait times.\"\n",
            "    }\n",
            "  ],\n",
            "  \"premises\": [\n",
            "    {\n",
            "      \"text\": \"People working remotely often report fewer distractions and better focus.\"\n",
            "    },\n",
            "    {\n",
            "      \"text\": \"Most EVs are charged with electricity generated from fossil fuels.\"\n",
            "    }\n",
            "  ]\n",
            "}\n"
          ]
        }
      ],
      "source": [
        "# Get the result from the function\n",
        "result = classify_adu(paragraph)\n",
        "\n",
        "# Print the validated and formatted output\n",
        "print(result.model_dump_json(indent=2))  # preferred in Pydantic v2+"
      ]
    }
  ],
  "metadata": {
    "accelerator": "GPU",
    "colab": {
      "gpuType": "A100",
      "machine_shape": "hm",
      "provenance": []
    },
    "kernelspec": {
      "display_name": "Python 3",
      "name": "python3"
    },
    "language_info": {
      "name": "python"
    }
  },
  "nbformat": 4,
  "nbformat_minor": 0
}

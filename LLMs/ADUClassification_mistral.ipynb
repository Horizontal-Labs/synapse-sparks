{
  "cells": [
    {
      "cell_type": "code",
      "execution_count": null,
      "id": "oXb8Ph-ThORb",
      "metadata": {
        "id": "oXb8Ph-ThORb"
      },
      "outputs": [],
      "source": [
        "import os\n",
        "\n",
        "# Temporarily set the Hugging Face token (only for this runtime session)\n",
        "os.environ[\"HUGGINGFACE_TOKEN\"] = \"\"\n"
      ]
    },
    {
      "cell_type": "code",
      "execution_count": 2,
      "id": "2MN9rLNUhv5I",
      "metadata": {
        "colab": {
          "base_uri": "https://localhost:8080/"
        },
        "id": "2MN9rLNUhv5I",
        "outputId": "c80a371f-f411-4cd3-cd5f-a47e285eb87f"
      },
      "outputs": [
        {
          "name": "stdout",
          "output_type": "stream",
          "text": [
            "Requirement already satisfied: huggingface_hub[cli] in /usr/local/lib/python3.11/dist-packages (0.33.2)\n",
            "Collecting huggingface_hub[cli]\n",
            "  Downloading huggingface_hub-0.33.4-py3-none-any.whl.metadata (14 kB)\n",
            "Requirement already satisfied: filelock in /usr/local/lib/python3.11/dist-packages (from huggingface_hub[cli]) (3.18.0)\n",
            "Requirement already satisfied: fsspec>=2023.5.0 in /usr/local/lib/python3.11/dist-packages (from huggingface_hub[cli]) (2025.3.2)\n",
            "Requirement already satisfied: packaging>=20.9 in /usr/local/lib/python3.11/dist-packages (from huggingface_hub[cli]) (24.2)\n",
            "Requirement already satisfied: pyyaml>=5.1 in /usr/local/lib/python3.11/dist-packages (from huggingface_hub[cli]) (6.0.2)\n",
            "Requirement already satisfied: requests in /usr/local/lib/python3.11/dist-packages (from huggingface_hub[cli]) (2.32.3)\n",
            "Requirement already satisfied: tqdm>=4.42.1 in /usr/local/lib/python3.11/dist-packages (from huggingface_hub[cli]) (4.67.1)\n",
            "Requirement already satisfied: typing-extensions>=3.7.4.3 in /usr/local/lib/python3.11/dist-packages (from huggingface_hub[cli]) (4.14.1)\n",
            "Requirement already satisfied: hf-xet<2.0.0,>=1.1.2 in /usr/local/lib/python3.11/dist-packages (from huggingface_hub[cli]) (1.1.5)\n",
            "Collecting InquirerPy==0.3.4 (from huggingface_hub[cli])\n",
            "  Downloading InquirerPy-0.3.4-py3-none-any.whl.metadata (8.1 kB)\n",
            "Collecting pfzy<0.4.0,>=0.3.1 (from InquirerPy==0.3.4->huggingface_hub[cli])\n",
            "  Downloading pfzy-0.3.4-py3-none-any.whl.metadata (4.9 kB)\n",
            "Requirement already satisfied: prompt-toolkit<4.0.0,>=3.0.1 in /usr/local/lib/python3.11/dist-packages (from InquirerPy==0.3.4->huggingface_hub[cli]) (3.0.51)\n",
            "Requirement already satisfied: charset-normalizer<4,>=2 in /usr/local/lib/python3.11/dist-packages (from requests->huggingface_hub[cli]) (3.4.2)\n",
            "Requirement already satisfied: idna<4,>=2.5 in /usr/local/lib/python3.11/dist-packages (from requests->huggingface_hub[cli]) (3.10)\n",
            "Requirement already satisfied: urllib3<3,>=1.21.1 in /usr/local/lib/python3.11/dist-packages (from requests->huggingface_hub[cli]) (2.4.0)\n",
            "Requirement already satisfied: certifi>=2017.4.17 in /usr/local/lib/python3.11/dist-packages (from requests->huggingface_hub[cli]) (2025.7.9)\n",
            "Requirement already satisfied: wcwidth in /usr/local/lib/python3.11/dist-packages (from prompt-toolkit<4.0.0,>=3.0.1->InquirerPy==0.3.4->huggingface_hub[cli]) (0.2.13)\n",
            "Downloading InquirerPy-0.3.4-py3-none-any.whl (67 kB)\n",
            "\u001b[2K   \u001b[90m━━━━━━━━━━━━━━━━━━━━━━━━━━━━━━━━━━━━━━━━\u001b[0m \u001b[32m67.7/67.7 kB\u001b[0m \u001b[31m2.9 MB/s\u001b[0m eta \u001b[36m0:00:00\u001b[0m\n",
            "\u001b[?25hDownloading huggingface_hub-0.33.4-py3-none-any.whl (515 kB)\n",
            "\u001b[2K   \u001b[90m━━━━━━━━━━━━━━━━━━━━━━━━━━━━━━━━━━━━━━━━\u001b[0m \u001b[32m515.3/515.3 kB\u001b[0m \u001b[31m15.3 MB/s\u001b[0m eta \u001b[36m0:00:00\u001b[0m\n",
            "\u001b[?25hDownloading pfzy-0.3.4-py3-none-any.whl (8.5 kB)\n",
            "Installing collected packages: pfzy, InquirerPy, huggingface_hub\n",
            "  Attempting uninstall: huggingface_hub\n",
            "    Found existing installation: huggingface-hub 0.33.2\n",
            "    Uninstalling huggingface-hub-0.33.2:\n",
            "      Successfully uninstalled huggingface-hub-0.33.2\n",
            "Successfully installed InquirerPy-0.3.4 huggingface_hub-0.33.4 pfzy-0.3.4\n"
          ]
        }
      ],
      "source": [
        "! pip install -U \"huggingface_hub[cli]\""
      ]
    },
    {
      "cell_type": "code",
      "execution_count": 3,
      "id": "370bf591",
      "metadata": {
        "id": "370bf591"
      },
      "outputs": [],
      "source": [
        "\n",
        "import os\n",
        "hf_token = os.getenv(\"HUGGINGFACE_TOKEN\")\n",
        "if not hf_token:\n",
        "    raise EnvironmentError(\"❌ HUGGINGFACE_TOKEN not found. Set it using os.environ['HUGGINGFACE_TOKEN'] = 'your_token_here'\")\n"
      ]
    },
    {
      "cell_type": "code",
      "execution_count": 4,
      "id": "1cfece63",
      "metadata": {
        "colab": {
          "base_uri": "https://localhost:8080/",
          "height": 619,
          "referenced_widgets": [
            "074531ea21bc436984d477f45b3d62ef",
            "e45e9bc78ad54a57951e1fc9ae4e3995",
            "297c1290def94c6585fee569478eb2f1",
            "4e873ce7f303406780774d682064d198",
            "89700e708d854fd29e75bf0a0c261a18",
            "754c1713424d4d09a9cb129c08dfe598",
            "18a5ffb560974f479a85057d9ac59184",
            "333c61cd9da94142a2c8ad44c2c9780b",
            "ecab76755eb84312ac61aca9aa963c83",
            "5eba14de1733450f8bb21142dad56d82",
            "b0cb81c5a47f4b268f5b2e45766e5693",
            "49df3455eb984eec8d5b2d016f0062fe",
            "c04f79fef02e4c469731dcbdb1170e53",
            "4c1583ced8364984b741231c8abee290",
            "8d7656ee386d4fea819cc1745fab57ad",
            "75526c96be3147d39210b51f008cc5a1",
            "bbdc710593c94aad87dfbcae61e1a6c6",
            "d15640628ef84eff86f636248c320fa4",
            "fa9f7f89896c4d2db629a0e73311e2f6",
            "6e83d0a44cd74022ad696760a35718eb",
            "f3eb949b66c94e31b0cb6abd87904103",
            "cc37902ffc244592a3f9952c316917ec",
            "1b0894ca4c6940d1a20c3d177a40cba9",
            "e9d5af3653cd441a81d4a4d2fef50955",
            "fb79bb3f4e82489a800ef85c9bbe87f8",
            "8e5c10a565e743b89dea22100e1b2e2e",
            "418bfedb33d14585bc3beb58d62b70a4",
            "8677c5c33cd143d88264be731d0cb4d3",
            "9e40b906dfc5441696628ce99bee2194",
            "f3fc47f8da134a6aa3765bf3c7e859c3",
            "46f579e5bc7b4ee99d71adc63dc4bd1d",
            "01a7153ff0724327a9c2602d29ad5e3b",
            "d50523fbcb5a482288047991fd7d3081",
            "b234c10b91464db6b5be88682dbb52a9",
            "f5ca083ca4ad4ed28725515f73973457",
            "4fdfb6f2396d4456b276bca577f4a205",
            "470cbb8c4d144fa9a3acf0c9c5b4be2f",
            "d8f8e8b9c88e4d37a5411e38edaf5c6a",
            "97524f741a3a4111add5fa00bf9f4fa0",
            "3ae0195987264d9fadee02869e21d89b",
            "9125fed48c494b418ba20880d2107c54",
            "038cdaf0270c4426a121b800799c10c4",
            "2be14a8be0414ecab2c7df29f2d44ab8",
            "6e86d5dd45a6431485bff207c32f2320",
            "f721aa9369a44d1bb54acde067af4824",
            "99f78e363e30403fad3cb0a0334fd49b",
            "cbc18dd908c343e98c1973f825ecf6ee",
            "ff95d10db4d84d85b8c01239fe54989e",
            "081f26409d314f4a80f10cad26b8d256",
            "b527dad13ef5427ab43d3407bc118f62",
            "9fa417f55c1347358ddbbec1bb28c850",
            "99864bd4923a4fb3869c770868c25d80",
            "8c8e5d5f83f44e748892672b48a323a7",
            "109530a92511401399f6fda0fd70d866",
            "fc6a04f12dfa44aba2c765da65bec577",
            "3426c861f9304758855d00d058def7bc",
            "fd79c22baf66484598a6f4c5ec8dab2d",
            "1189e0c32dc74240af8a6b2681db8fe9",
            "99188bf8c1894aa0b3b34d289d9c0253",
            "01d272f99ac34489bf86038d4f79d411",
            "265ce926813c4498ab53f436a051866c",
            "cd6af5907d744c5eadd37ee5db9ff6d1",
            "b2929f6ec80f43cda69de332fa9e2941",
            "55cf64386a2e4df78512c478f11c4082",
            "35a0384a52564ee58ed7962b0ae6f06e",
            "b4827cac64484439bb8a74f41aec9799",
            "bfabb5913f2e49e6b14cfb28b47f412c",
            "9af5cfcdd2874d02967fd08968e20023",
            "a082b45f0a5b417895f94591bb610542",
            "45c1d77060c7476cbdbc2a47455aaf47",
            "5b86a5e264fb4fc0a3826430eed91949",
            "cf93cbf77be84716b1dc57b177f9df18",
            "6877ea6b687746f3ba77572f9659eade",
            "21eef53795fe41c48b8804b8c710b373",
            "af67d3b21d7b4bb4b6c9527ee84cf07b",
            "1698faf7f7834962bab1eb5230005bad",
            "35910c328e004191a8d9b0921bbb120a",
            "dd4b68a696fd42d99d68b7494e0043bf",
            "cb735dcc5d1f48eaaad53c03fa711320",
            "5206ed9ddcc44584964c88d8e579702a",
            "e2984ed384a84a488ba0fdd790a8af25",
            "0befa0044c2c4f7c9bca12df333c053c",
            "14f54df0f513449fa3ec2b3d03deccf8",
            "6c50aa2c15714df8b5f74433961f9c2a",
            "faf8bd94380741bd820bc571a2a1ab98",
            "efc19b2fcdc3462e894f89dd50f28317",
            "a2f734e852194341bbbaec420ebda882",
            "c133b8de95e04fc293befd44ee36a9e4",
            "c06cd7818cf54b348a898cd9fad4c5ea",
            "c05cb54e94a74119a0377e25b1b121db",
            "4074cf00ca1b4dfa97903fa98dc1c492",
            "eb6755f23e9c409db4a71065e7ef895e",
            "0e8c568aacf342088308e11a7c6898bf",
            "ccd7df09f9194547a008dd66a32073ed",
            "0750c5b699314ab597405d54c4c7a0d4",
            "6ec01eca2c8744c5992df75ccff67d4d",
            "252f924d1962421abfb86bb109a8b7ec",
            "b25d71511fe34aea9a3e3ca4b4fafe3b",
            "49901f132e8544c19de2bb55c6caeca3",
            "0cb33126d6a84a9aaa3e0c5e69844036",
            "bd0499285ba24f55a3b8d7153f66af4a",
            "7e5c52760b4944a2809d0e1a717d4fcc",
            "038b89fafd684e90953a4ec51f00fba1",
            "b23a0d21e2144617b11e2adc5b473be2",
            "93453c6313d34216afb35a30afdcf0e8",
            "23128819c4ec4c9097cddecac1e03622",
            "c29e6c7e411d47fbb96ba4abdd15bb58",
            "58f5134f327545aab36aaf065b2e35bb",
            "c9a0e3fcb423445ca2d070eaf5d3b238",
            "ba6d305f7a6449d0b0e7836972bf2627",
            "9867861b9eda438bb396bf2106ecd045",
            "2af22d4037744b7aaf147ca61ce8f766",
            "c7d7f87be2e94fe2951999a3946e7df7",
            "35df1c8e07b84bffb985c9ea530add5d",
            "ed3c7acd441946d183405d87fe4e7f43",
            "2be0f1988fa343098cfa959cae162542",
            "5bd5f49ef25a4614b08067a903c018af",
            "41d077759bde495d8564203b59af7094",
            "17414e94f7cf4f5c89dc2e40bd30ec73",
            "94bfc3e1a42d4d7db9165f436b35e02d",
            "32aa6a29389045c0a8a1b999fed02fe6"
          ]
        },
        "id": "1cfece63",
        "outputId": "5dbba07d-6182-4d9d-94fe-6c72c2b2e9c3"
      },
      "outputs": [
        {
          "name": "stderr",
          "output_type": "stream",
          "text": [
            "/usr/local/lib/python3.11/dist-packages/transformers/models/auto/tokenization_auto.py:934: FutureWarning: The `use_auth_token` argument is deprecated and will be removed in v5 of Transformers. Please use `token` instead.\n",
            "  warnings.warn(\n"
          ]
        },
        {
          "data": {
            "application/vnd.jupyter.widget-view+json": {
              "model_id": "074531ea21bc436984d477f45b3d62ef",
              "version_major": 2,
              "version_minor": 0
            },
            "text/plain": [
              "tokenizer_config.json:   0%|          | 0.00/2.10k [00:00<?, ?B/s]"
            ]
          },
          "metadata": {},
          "output_type": "display_data"
        },
        {
          "name": "stderr",
          "output_type": "stream",
          "text": [
            "/usr/local/lib/python3.11/dist-packages/huggingface_hub/utils/_auth.py:94: UserWarning: \n",
            "The secret `HF_TOKEN` does not exist in your Colab secrets.\n",
            "To authenticate with the Hugging Face Hub, create a token in your settings tab (https://huggingface.co/settings/tokens), set it as secret in your Google Colab and restart your session.\n",
            "You will be able to reuse this secret in all of your notebooks.\n",
            "Please note that authentication is recommended but still optional to access public models or datasets.\n",
            "  warnings.warn(\n"
          ]
        },
        {
          "data": {
            "application/vnd.jupyter.widget-view+json": {
              "model_id": "49df3455eb984eec8d5b2d016f0062fe",
              "version_major": 2,
              "version_minor": 0
            },
            "text/plain": [
              "tokenizer.model:   0%|          | 0.00/493k [00:00<?, ?B/s]"
            ]
          },
          "metadata": {},
          "output_type": "display_data"
        },
        {
          "data": {
            "application/vnd.jupyter.widget-view+json": {
              "model_id": "1b0894ca4c6940d1a20c3d177a40cba9",
              "version_major": 2,
              "version_minor": 0
            },
            "text/plain": [
              "tokenizer.json:   0%|          | 0.00/1.80M [00:00<?, ?B/s]"
            ]
          },
          "metadata": {},
          "output_type": "display_data"
        },
        {
          "data": {
            "application/vnd.jupyter.widget-view+json": {
              "model_id": "b234c10b91464db6b5be88682dbb52a9",
              "version_major": 2,
              "version_minor": 0
            },
            "text/plain": [
              "special_tokens_map.json:   0%|          | 0.00/414 [00:00<?, ?B/s]"
            ]
          },
          "metadata": {},
          "output_type": "display_data"
        },
        {
          "name": "stderr",
          "output_type": "stream",
          "text": [
            "/usr/local/lib/python3.11/dist-packages/transformers/models/auto/auto_factory.py:492: FutureWarning: The `use_auth_token` argument is deprecated and will be removed in v5 of Transformers. Please use `token` instead.\n",
            "  warnings.warn(\n"
          ]
        },
        {
          "data": {
            "application/vnd.jupyter.widget-view+json": {
              "model_id": "f721aa9369a44d1bb54acde067af4824",
              "version_major": 2,
              "version_minor": 0
            },
            "text/plain": [
              "config.json:   0%|          | 0.00/571 [00:00<?, ?B/s]"
            ]
          },
          "metadata": {},
          "output_type": "display_data"
        },
        {
          "data": {
            "application/vnd.jupyter.widget-view+json": {
              "model_id": "3426c861f9304758855d00d058def7bc",
              "version_major": 2,
              "version_minor": 0
            },
            "text/plain": [
              "model.safetensors.index.json:   0%|          | 0.00/25.1k [00:00<?, ?B/s]"
            ]
          },
          "metadata": {},
          "output_type": "display_data"
        },
        {
          "data": {
            "application/vnd.jupyter.widget-view+json": {
              "model_id": "bfabb5913f2e49e6b14cfb28b47f412c",
              "version_major": 2,
              "version_minor": 0
            },
            "text/plain": [
              "Fetching 2 files:   0%|          | 0/2 [00:00<?, ?it/s]"
            ]
          },
          "metadata": {},
          "output_type": "display_data"
        },
        {
          "data": {
            "application/vnd.jupyter.widget-view+json": {
              "model_id": "dd4b68a696fd42d99d68b7494e0043bf",
              "version_major": 2,
              "version_minor": 0
            },
            "text/plain": [
              "model-00001-of-00002.safetensors:   0%|          | 0.00/9.94G [00:00<?, ?B/s]"
            ]
          },
          "metadata": {},
          "output_type": "display_data"
        },
        {
          "data": {
            "application/vnd.jupyter.widget-view+json": {
              "model_id": "c06cd7818cf54b348a898cd9fad4c5ea",
              "version_major": 2,
              "version_minor": 0
            },
            "text/plain": [
              "model-00002-of-00002.safetensors:   0%|          | 0.00/4.54G [00:00<?, ?B/s]"
            ]
          },
          "metadata": {},
          "output_type": "display_data"
        },
        {
          "data": {
            "application/vnd.jupyter.widget-view+json": {
              "model_id": "0cb33126d6a84a9aaa3e0c5e69844036",
              "version_major": 2,
              "version_minor": 0
            },
            "text/plain": [
              "Loading checkpoint shards:   0%|          | 0/2 [00:00<?, ?it/s]"
            ]
          },
          "metadata": {},
          "output_type": "display_data"
        },
        {
          "data": {
            "application/vnd.jupyter.widget-view+json": {
              "model_id": "9867861b9eda438bb396bf2106ecd045",
              "version_major": 2,
              "version_minor": 0
            },
            "text/plain": [
              "generation_config.json:   0%|          | 0.00/116 [00:00<?, ?B/s]"
            ]
          },
          "metadata": {},
          "output_type": "display_data"
        }
      ],
      "source": [
        "\n",
        "from transformers import AutoTokenizer, AutoModelForCausalLM\n",
        "tokenizer = AutoTokenizer.from_pretrained(\"mistralai/Mistral-7B-Instruct-v0.1\", use_auth_token=hf_token)\n",
        "model = AutoModelForCausalLM.from_pretrained(\"mistralai/Mistral-7B-Instruct-v0.1\", use_auth_token=hf_token)\n"
      ]
    },
    {
      "cell_type": "code",
      "execution_count": 5,
      "id": "557ad230",
      "metadata": {
        "id": "557ad230"
      },
      "outputs": [],
      "source": [
        "\n",
        "paragraph = \"\"\"Remote work improves employee productivity. People working remotely often report fewer distractions and better focus.\n",
        "EVs have zero tailpipe emissions. Most EVs are charged with electricity generated from fossil fuels.\n",
        "AI-generated images mimic style but lack original thought. 3D-printed organs could reduce transplant wait times.\"\"\"\n"
      ]
    },
    {
      "cell_type": "code",
      "execution_count": 6,
      "id": "68f55e4a",
      "metadata": {
        "id": "68f55e4a"
      },
      "outputs": [],
      "source": [
        "\n",
        "import re\n",
        "\n",
        "def split_into_sentences(text):\n",
        "    return re.split(r'(?<=[.!?])\\s+', text.strip())\n",
        "\n",
        "sentences = split_into_sentences(paragraph)\n"
      ]
    },
    {
      "cell_type": "code",
      "execution_count": 7,
      "id": "6d228b46",
      "metadata": {
        "id": "6d228b46"
      },
      "outputs": [],
      "source": [
        "\n",
        "import torch\n",
        "\n",
        "def run_prompt(prompt, max_new_tokens=10):\n",
        "    inputs = tokenizer(prompt, return_tensors=\"pt\")\n",
        "    with torch.no_grad():\n",
        "        outputs = model.generate(\n",
        "            **inputs,\n",
        "            max_new_tokens=max_new_tokens,\n",
        "            pad_token_id=tokenizer.eos_token_id\n",
        "        )\n",
        "    result = tokenizer.decode(outputs[0], skip_special_tokens=True)\n",
        "    return result[len(prompt):].strip()\n"
      ]
    },
    {
      "cell_type": "code",
      "execution_count": 8,
      "id": "6c81bc85",
      "metadata": {
        "id": "6c81bc85"
      },
      "outputs": [],
      "source": [
        "\n",
        "classified = []\n",
        "claims = []\n",
        "\n",
        "for s in sentences:\n",
        "    prompt = (\n",
        "        \"Classify the following sentence as either a 'claim' or a 'premise':\\n\"\n",
        "        f\"\\\"{s}\\\"\\nAnswer:\"\n",
        "    )\n",
        "    response = run_prompt(prompt)\n",
        "    label = \"claim\" if \"claim\" in response.lower() else \"premise\"\n",
        "    classified.append({\"text\": s, \"type\": label})\n",
        "    if label == \"claim\":\n",
        "        claims.append(s)\n"
      ]
    },
    {
      "cell_type": "code",
      "execution_count": 9,
      "id": "c8b0a348",
      "metadata": {
        "colab": {
          "base_uri": "https://localhost:8080/"
        },
        "id": "c8b0a348",
        "outputId": "454888f6-5af2-4a9e-8a0d-28fd01e22ae1"
      },
      "outputs": [
        {
          "name": "stdout",
          "output_type": "stream",
          "text": [
            "{\n",
            "  \"claims\": [],\n",
            "  \"premises\": [\n",
            "    {\n",
            "      \"text\": \"Remote work improves employee productivity.\"\n",
            "    },\n",
            "    {\n",
            "      \"text\": \"People working remotely often report fewer distractions and better focus.\"\n",
            "    },\n",
            "    {\n",
            "      \"text\": \"EVs have zero tailpipe emissions.\"\n",
            "    },\n",
            "    {\n",
            "      \"text\": \"Most EVs are charged with electricity generated from fossil fuels.\"\n",
            "    },\n",
            "    {\n",
            "      \"text\": \"AI-generated images mimic style but lack original thought.\"\n",
            "    },\n",
            "    {\n",
            "      \"text\": \"3D-printed organs could reduce transplant wait times.\"\n",
            "    }\n",
            "  ]\n",
            "}\n"
          ]
        }
      ],
      "source": [
        "\n",
        "structured_output = {\n",
        "    \"claims\": [{\"text\": entry[\"text\"]} for entry in classified if entry[\"type\"] == \"claim\"],\n",
        "    \"premises\": [{\"text\": entry[\"text\"]} for entry in classified if entry[\"type\"] == \"premise\"]\n",
        "}\n",
        "\n",
        "import json\n",
        "print(json.dumps(structured_output, indent=2))\n"
      ]
    }
  ],
  "metadata": {
    "accelerator": "GPU",
    "colab": {
      "gpuType": "A100",
      "machine_shape": "hm",
      "provenance": []
    },
    "kernelspec": {
      "display_name": "Python 3",
      "name": "python3"
    },
    "language_info": {
      "name": "python"
    }
  },
  "nbformat": 4,
  "nbformat_minor": 5
}

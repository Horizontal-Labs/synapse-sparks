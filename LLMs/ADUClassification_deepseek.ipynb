{
  "cells": [
    {
      "cell_type": "code",
      "execution_count": null,
      "metadata": {
        "id": "NTyBblsMqyjS"
      },
      "outputs": [],
      "source": [
        "import os\n",
        "\n",
        "# Temporarily set the Hugging Face token (only for this runtime session)\n",
        "os.environ[\"HUGGINGFACE_TOKEN\"] = \" \"\n"
      ]
    },
    {
      "cell_type": "code",
      "execution_count": 29,
      "metadata": {
        "id": "gKedElON0epw"
      },
      "outputs": [],
      "source": [
        "import torch"
      ]
    },
    {
      "cell_type": "code",
      "execution_count": 3,
      "metadata": {
        "id": "YeeD6CtJrG-R"
      },
      "outputs": [],
      "source": [
        "import os\n",
        "hf_token = os.getenv(\"HUGGINGFACE_TOKEN\")\n",
        "if not hf_token:\n",
        "    raise EnvironmentError(\"❌ HUGGINGFACE_TOKEN not found. Set it using os.environ['HUGGINGFACE_TOKEN'] = 'your_token_here'\")\n"
      ]
    },
    {
      "cell_type": "code",
      "execution_count": 10,
      "metadata": {
        "colab": {
          "base_uri": "https://localhost:8080/",
          "height": 482,
          "referenced_widgets": [
            "550d2d9492b3416a9de2169d89e4e65f",
            "80719f8971ef45fb9a5b97006ff7534a",
            "1c013e5e9cf44cc5b1e36cf6f8d7763a",
            "fb52d16af75849caa595a68765e01e27",
            "d8b64d27e071446f9df9f34a20ed7b32",
            "915ce09b3f764f0d900e5e661a0986ef",
            "21860937e54d4c0e97f5836a01f9f9c2",
            "3315ebb9b69041b29363172404daf354",
            "8af6dc185b9b48c19abcbf3fcbc5e478",
            "ec1cb713fbdd47fb9797b3cd7ca19ff2",
            "10154b0e6ad049e39e9826fcf0191731",
            "bc42fe221dfa41878f7a71fa6b55e1a3",
            "1a6031ba0bc446489d49f5033ca9c5be",
            "23e13db010d848028b6a0c06f2267d23",
            "d106b6f35df943eab0c90311e1fce961",
            "437e727a50f9467cbfa28321cd7ed549",
            "4ac1aa363ce74e739c13f105f166b7ec",
            "e42f0bd5cf9f4e7b8a95d8e8744ecac6",
            "ce784516bb984e8b93cc41921175c236",
            "d146d32e88fa45e99c1c867496f861d8",
            "13522d25b7f8462ea38cd88fc6da11ca",
            "c3973c6c050340b7b6c1bb76b7b15ba3",
            "046cceda30964c42baf0f4e90f82256e",
            "264a5ac509bf4afdb49c119571a7a9dc",
            "52e6778b7f5348849537862f2443689a",
            "8eb60bee500243d399c66b14a51c540e",
            "731ee6f92ce1432590c1fc09e02761df",
            "6c5af462c9af46f4b25e2613a90c6c4f",
            "7e93a27f191e414b9d973271c390be05",
            "3626049ad2bb44d49ba49d20f63b74f4",
            "fccb9d88f5a84a90b3931b3924dc1040",
            "864f06b0cc824f169585628825a7dfa1",
            "1b143934f91d4238a8924af554aa7f05",
            "0f50244039984dd489af83144adf0aea",
            "889cedb716754a28bda4b765f9b39abb",
            "6222800aa7ec46f8acb0c7e1f3454e52",
            "aa1c221e97314d3eaaa5764c69ce8ccd",
            "35b79f5b28804214848a6690c511b5d9",
            "ef5750a50c974ed0a361b7284ce37dc5",
            "b4e192e7992948e2b139c7ae2be648f4",
            "169193326efc4fc6ba6b606ac9241a35",
            "5a37e1cae61b4e519c1915e06924a1d5",
            "eba13aa3a0524b709ea6c4fef902891e",
            "2810c5a4c2384d7f93ee3a6482b95546",
            "5c33c96e5181493eb1c660413d71fc1e",
            "89b3e0d12f52437ab2a9f5419f89816a",
            "6a5be8d7628545a2b5117f561f772953",
            "f8433191c64a45bea8c8255c4b9dd577",
            "127f0ba65792474fbf1125e369bb0ade",
            "41fc8b832f2d4c838c9ad16b03b9b2ca",
            "19b0d138714f4481af882120d19ea57e",
            "c1fe855532fc4fb983b3d8d7afe56a36",
            "1ded930baf6d4cccb5bafb5f21d530e8",
            "24124ceb34fd487e8c2a01b0cc2c68f7",
            "bddba9126f47483aa99207c9d68e43ee",
            "1cde258f9cc5414b988383ceaf1a7c71",
            "f6cc6e3f8a154aa8a9c2382223c407a8",
            "5000cafc3dcc4d5d88c8405c2b767722",
            "95aade01e5c548fca4cecdaacf18a4a3",
            "8ef3c16097e54fceb5be7e957eb7aedd",
            "62efb64862ad412ebc43dc8e9de6deed",
            "95af140e77ff470da516f8fa674e3254",
            "12caa7fae7934f839da29162dc185f1c",
            "f0a0d3a8a4f6460b8de6c5c5ebe48bf5",
            "1ea868a49ed94df693a9ebd25e01dd5c",
            "e09df80d954a498d83bbf78923d93c4f",
            "e3d427c7a8164f19bd5ddeb13a949f00",
            "310f5762f3e64c21a1d617472bc72a07",
            "b66ef01684d742f690b9b78a57ee42c9",
            "1ff04f5560634302a9b3f856e66cd6da",
            "ae8d6a20ff634370bb78445f3760f654",
            "723105e3faad49ff9fdebd6860e780b7",
            "0a570ab8fff14dfe9011105899980f07",
            "998412781bf84a949650e95d57c2d95c",
            "26db9d07f2e2449ea168772da1292541",
            "524fe62d4f924f3da4e8330c5f759360",
            "829b12d86a2144afa999b5c0ab535758",
            "21c72a3c06e14d0685349e6a7c68d692",
            "7377a0da682e4fd492917310008e9312",
            "5d59e397677448b39956b6ca4aac47ab",
            "cf9705ab59df4789a012138116a75ebe",
            "eeaa70025f514c1a87757c63ed2dc126",
            "9847bc2e7e9840239121cdc4f8434c7d",
            "79729942de714016a749415667ac25af",
            "c05d0a6924d946fca2eae0508f273d38",
            "20891fb739164a7799e36de4585cf9a4",
            "fc831e1358d8420792fae3b81e641644",
            "0bd13698da9c4f5483b0895830d161b5",
            "a9787b046c3c454599a66fb028ab2037",
            "0c75c568da7749699a1beab45608c018",
            "9802a48c1c074ed29fb65aa8bf6b60ec",
            "5834e62d0adf4c00a2a7bac5a30a6c84",
            "4449396af95d45148b906672862fa405",
            "733b0c05e43f4bbeb51b8f48cf72e82a",
            "ca66d834831d4b49a691788604175186",
            "b2a2d8f68d034ffb9b488865446b0aa2",
            "cc182b3fb8c44e60b05b4870bc992745",
            "0f64a29a593641d6aa685e95552cc24c",
            "6f00d443a5264c06930136f0b1241258",
            "a52f13657c104e1f91e4242d8e4cfb81",
            "28c7102602344bf98eee5153fd0ec343",
            "6c33fccd3b5c433c876241caef93027c",
            "fb1e9f915ee94de9b76ffa519826cb23",
            "e9c0af2a2453448e804dfa7cfbd53618",
            "f84e582b41984c7eabc806da99c8b2ec",
            "92a25f2b95424497b9256bd750cbba9a",
            "8586370ad7194012a7c6652a7150fdc1",
            "290b7a19176e4ec890c21d319c9c2a66",
            "97ff33eb6b4a4635bf8384f659a5ea53",
            "af374c4cee3845d0a4789b8add1a35c2"
          ]
        },
        "id": "pE1iEvSxq8zb",
        "outputId": "bbfc93e0-fc6f-4b28-caa7-98713c25d42f"
      },
      "outputs": [
        {
          "name": "stderr",
          "output_type": "stream",
          "text": [
            "/usr/local/lib/python3.11/dist-packages/transformers/models/auto/tokenization_auto.py:934: FutureWarning: The `use_auth_token` argument is deprecated and will be removed in v5 of Transformers. Please use `token` instead.\n",
            "  warnings.warn(\n"
          ]
        },
        {
          "data": {
            "application/vnd.jupyter.widget-view+json": {
              "model_id": "550d2d9492b3416a9de2169d89e4e65f",
              "version_major": 2,
              "version_minor": 0
            },
            "text/plain": [
              "tokenizer_config.json: 0.00B [00:00, ?B/s]"
            ]
          },
          "metadata": {},
          "output_type": "display_data"
        },
        {
          "data": {
            "application/vnd.jupyter.widget-view+json": {
              "model_id": "bc42fe221dfa41878f7a71fa6b55e1a3",
              "version_major": 2,
              "version_minor": 0
            },
            "text/plain": [
              "tokenizer.json: 0.00B [00:00, ?B/s]"
            ]
          },
          "metadata": {},
          "output_type": "display_data"
        },
        {
          "name": "stderr",
          "output_type": "stream",
          "text": [
            "/usr/local/lib/python3.11/dist-packages/transformers/models/auto/auto_factory.py:492: FutureWarning: The `use_auth_token` argument is deprecated and will be removed in v5 of Transformers. Please use `token` instead.\n",
            "  warnings.warn(\n"
          ]
        },
        {
          "data": {
            "application/vnd.jupyter.widget-view+json": {
              "model_id": "046cceda30964c42baf0f4e90f82256e",
              "version_major": 2,
              "version_minor": 0
            },
            "text/plain": [
              "config.json:   0%|          | 0.00/594 [00:00<?, ?B/s]"
            ]
          },
          "metadata": {},
          "output_type": "display_data"
        },
        {
          "data": {
            "application/vnd.jupyter.widget-view+json": {
              "model_id": "0f50244039984dd489af83144adf0aea",
              "version_major": 2,
              "version_minor": 0
            },
            "text/plain": [
              "pytorch_model.bin.index.json: 0.00B [00:00, ?B/s]"
            ]
          },
          "metadata": {},
          "output_type": "display_data"
        },
        {
          "data": {
            "application/vnd.jupyter.widget-view+json": {
              "model_id": "5c33c96e5181493eb1c660413d71fc1e",
              "version_major": 2,
              "version_minor": 0
            },
            "text/plain": [
              "Fetching 2 files:   0%|          | 0/2 [00:00<?, ?it/s]"
            ]
          },
          "metadata": {},
          "output_type": "display_data"
        },
        {
          "data": {
            "application/vnd.jupyter.widget-view+json": {
              "model_id": "1cde258f9cc5414b988383ceaf1a7c71",
              "version_major": 2,
              "version_minor": 0
            },
            "text/plain": [
              "pytorch_model-00001-of-00002.bin:   0%|          | 0.00/9.97G [00:00<?, ?B/s]"
            ]
          },
          "metadata": {},
          "output_type": "display_data"
        },
        {
          "data": {
            "application/vnd.jupyter.widget-view+json": {
              "model_id": "e3d427c7a8164f19bd5ddeb13a949f00",
              "version_major": 2,
              "version_minor": 0
            },
            "text/plain": [
              "pytorch_model-00002-of-00002.bin:   0%|          | 0.00/3.85G [00:00<?, ?B/s]"
            ]
          },
          "metadata": {},
          "output_type": "display_data"
        },
        {
          "data": {
            "application/vnd.jupyter.widget-view+json": {
              "model_id": "21c72a3c06e14d0685349e6a7c68d692",
              "version_major": 2,
              "version_minor": 0
            },
            "text/plain": [
              "model.safetensors.index.json: 0.00B [00:00, ?B/s]"
            ]
          },
          "metadata": {},
          "output_type": "display_data"
        },
        {
          "data": {
            "application/vnd.jupyter.widget-view+json": {
              "model_id": "a9787b046c3c454599a66fb028ab2037",
              "version_major": 2,
              "version_minor": 0
            },
            "text/plain": [
              "Loading checkpoint shards:   0%|          | 0/2 [00:00<?, ?it/s]"
            ]
          },
          "metadata": {},
          "output_type": "display_data"
        },
        {
          "data": {
            "application/vnd.jupyter.widget-view+json": {
              "model_id": "a52f13657c104e1f91e4242d8e4cfb81",
              "version_major": 2,
              "version_minor": 0
            },
            "text/plain": [
              "generation_config.json:   0%|          | 0.00/181 [00:00<?, ?B/s]"
            ]
          },
          "metadata": {},
          "output_type": "display_data"
        }
      ],
      "source": [
        "from transformers import AutoTokenizer, AutoModelForCausalLM\n",
        "\n",
        "#deepseek-ai/deepseek-llm-7b-chat\n",
        "#deepseek-ai/deepseek-coder-6.7b-instruct\n",
        "tokenizer = AutoTokenizer.from_pretrained(\"deepseek-ai/deepseek-llm-7b-chat\", use_auth_token=hf_token)\n",
        "model = AutoModelForCausalLM.from_pretrained(\"deepseek-ai/deepseek-llm-7b-chat\", use_auth_token=hf_token)\n"
      ]
    },
    {
      "cell_type": "code",
      "execution_count": 19,
      "metadata": {
        "id": "I8NmVs9Jrb6W"
      },
      "outputs": [],
      "source": [
        "paragraph = \"\"\"Remote work improves employee productivity. People working remotely often report fewer distractions and better focus.\n",
        "EVs have zero tailpipe emissions. Most EVs are charged with electricity generated from fossil fuels.\n",
        "AI-generated images mimic style but lack original thought. 3D-printed organs could reduce transplant wait times.\"\"\"\n"
      ]
    },
    {
      "cell_type": "code",
      "execution_count": 43,
      "metadata": {
        "id": "kRutvLdcrejC"
      },
      "outputs": [],
      "source": [
        "import re\n",
        "\n",
        "def split_into_sentences(text):\n",
        "    # Replace line breaks with spaces and split on sentence-ending punctuation\n",
        "    text = text.replace(\"\\n\", \" \").strip()\n",
        "    return re.split(r'(?<=[.!?])\\s+', text)\n"
      ]
    },
    {
      "cell_type": "code",
      "execution_count": 44,
      "metadata": {
        "colab": {
          "base_uri": "https://localhost:8080/"
        },
        "id": "OvNEuPgD2pQe",
        "outputId": "01ec3fe5-dd5d-410b-cea3-d627aa991157"
      },
      "outputs": [
        {
          "name": "stdout",
          "output_type": "stream",
          "text": [
            "- Remote work improves employee productivity.\n",
            "- People working remotely often report fewer distractions and better focus.\n",
            "- EVs have zero tailpipe emissions.\n",
            "- Most EVs are charged with electricity generated from fossil fuels.\n",
            "- AI-generated images mimic style but lack original thought.\n",
            "- 3D-printed organs could reduce transplant wait times.\n"
          ]
        }
      ],
      "source": [
        "sentences = split_into_sentences(paragraph)\n",
        "\n",
        "for s in sentences:\n",
        "    print(\"-\", s)"
      ]
    },
    {
      "cell_type": "code",
      "execution_count": 47,
      "metadata": {
        "id": "yCTv3-H9riNW"
      },
      "outputs": [],
      "source": [
        "classified = []\n",
        "\n",
        "for s in sentences:\n",
        "    prompt = f\"You are an assistant for argument mining. Classify the following sentence as either a 'claim' or a 'premise':\\n\\\"{s}\\\"\\nAnswer:\"\n",
        "    inputs = tokenizer(prompt, return_tensors=\"pt\")\n",
        "    with torch.no_grad():\n",
        "        outputs = model.generate(\n",
        "            **inputs,\n",
        "            max_new_tokens=10,\n",
        "            pad_token_id=tokenizer.eos_token_id\n",
        "        )\n",
        "    result = tokenizer.decode(outputs[0], skip_special_tokens=True)\n",
        "    label = \"claim\" if \"claim\" in result.lower() else \"premise\"\n",
        "    classified.append({\"text\": s, \"type\": label})\n"
      ]
    },
    {
      "cell_type": "code",
      "execution_count": 48,
      "metadata": {
        "colab": {
          "base_uri": "https://localhost:8080/"
        },
        "id": "hxaZAqLQrm0m",
        "outputId": "748f2133-b5da-4fda-dd93-3d1c03568001"
      },
      "outputs": [
        {
          "name": "stdout",
          "output_type": "stream",
          "text": [
            "{\n",
            "  \"claims\": [\n",
            "    {\n",
            "      \"text\": \"Remote work improves employee productivity.\"\n",
            "    },\n",
            "    {\n",
            "      \"text\": \"People working remotely often report fewer distractions and better focus.\"\n",
            "    },\n",
            "    {\n",
            "      \"text\": \"EVs have zero tailpipe emissions.\"\n",
            "    },\n",
            "    {\n",
            "      \"text\": \"Most EVs are charged with electricity generated from fossil fuels.\"\n",
            "    },\n",
            "    {\n",
            "      \"text\": \"AI-generated images mimic style but lack original thought.\"\n",
            "    },\n",
            "    {\n",
            "      \"text\": \"3D-printed organs could reduce transplant wait times.\"\n",
            "    }\n",
            "  ],\n",
            "  \"premises\": []\n",
            "}\n"
          ]
        }
      ],
      "source": [
        "structured_output = {\n",
        "    \"claims\": [{\"text\": c[\"text\"]} for c in classified if c[\"type\"] == \"claim\"],\n",
        "    \"premises\": [{\"text\": c[\"text\"]} for c in classified if c[\"type\"] == \"premise\"]\n",
        "}\n",
        "\n",
        "# Step 5: View result\n",
        "print(json.dumps(structured_output, indent=2))"
      ]
    }
  ],
  "metadata": {
    "accelerator": "GPU",
    "colab": {
      "gpuType": "A100",
      "machine_shape": "hm",
      "provenance": []
    },
    "kernelspec": {
      "display_name": "Python 3",
      "name": "python3"
    },
    "language_info": {
      "name": "python"
    }
  },
  "nbformat": 4,
  "nbformat_minor": 0
}

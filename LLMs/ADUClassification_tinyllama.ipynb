{
  "cells": [
    {
      "cell_type": "code",
      "execution_count": null,
      "metadata": {
        "id": "YZQt2nutbOtF"
      },
      "outputs": [],
      "source": [
        "import os\n",
        "\n",
        "# Temporarily set the Hugging Face token (only for this runtime session)\n",
        "os.environ[\"HUGGINGFACE_TOKEN\"] = \"\"\n"
      ]
    },
    {
      "cell_type": "code",
      "execution_count": null,
      "metadata": {
        "colab": {
          "base_uri": "https://localhost:8080/"
        },
        "id": "ovBj0WA-Y8KK",
        "outputId": "b38bc3da-5fca-4fc5-ef98-06a131b7446c"
      },
      "outputs": [
        {
          "name": "stdout",
          "output_type": "stream",
          "text": [
            "Requirement already satisfied: huggingface_hub[cli] in /usr/local/lib/python3.11/dist-packages (0.33.2)\n",
            "Collecting huggingface_hub[cli]\n",
            "  Downloading huggingface_hub-0.33.4-py3-none-any.whl.metadata (14 kB)\n",
            "Requirement already satisfied: filelock in /usr/local/lib/python3.11/dist-packages (from huggingface_hub[cli]) (3.18.0)\n",
            "Requirement already satisfied: fsspec>=2023.5.0 in /usr/local/lib/python3.11/dist-packages (from huggingface_hub[cli]) (2025.3.2)\n",
            "Requirement already satisfied: packaging>=20.9 in /usr/local/lib/python3.11/dist-packages (from huggingface_hub[cli]) (24.2)\n",
            "Requirement already satisfied: pyyaml>=5.1 in /usr/local/lib/python3.11/dist-packages (from huggingface_hub[cli]) (6.0.2)\n",
            "Requirement already satisfied: requests in /usr/local/lib/python3.11/dist-packages (from huggingface_hub[cli]) (2.32.3)\n",
            "Requirement already satisfied: tqdm>=4.42.1 in /usr/local/lib/python3.11/dist-packages (from huggingface_hub[cli]) (4.67.1)\n",
            "Requirement already satisfied: typing-extensions>=3.7.4.3 in /usr/local/lib/python3.11/dist-packages (from huggingface_hub[cli]) (4.14.1)\n",
            "Requirement already satisfied: hf-xet<2.0.0,>=1.1.2 in /usr/local/lib/python3.11/dist-packages (from huggingface_hub[cli]) (1.1.5)\n",
            "Collecting InquirerPy==0.3.4 (from huggingface_hub[cli])\n",
            "  Downloading InquirerPy-0.3.4-py3-none-any.whl.metadata (8.1 kB)\n",
            "Collecting pfzy<0.4.0,>=0.3.1 (from InquirerPy==0.3.4->huggingface_hub[cli])\n",
            "  Downloading pfzy-0.3.4-py3-none-any.whl.metadata (4.9 kB)\n",
            "Requirement already satisfied: prompt-toolkit<4.0.0,>=3.0.1 in /usr/local/lib/python3.11/dist-packages (from InquirerPy==0.3.4->huggingface_hub[cli]) (3.0.51)\n",
            "Requirement already satisfied: charset-normalizer<4,>=2 in /usr/local/lib/python3.11/dist-packages (from requests->huggingface_hub[cli]) (3.4.2)\n",
            "Requirement already satisfied: idna<4,>=2.5 in /usr/local/lib/python3.11/dist-packages (from requests->huggingface_hub[cli]) (3.10)\n",
            "Requirement already satisfied: urllib3<3,>=1.21.1 in /usr/local/lib/python3.11/dist-packages (from requests->huggingface_hub[cli]) (2.4.0)\n",
            "Requirement already satisfied: certifi>=2017.4.17 in /usr/local/lib/python3.11/dist-packages (from requests->huggingface_hub[cli]) (2025.7.9)\n",
            "Requirement already satisfied: wcwidth in /usr/local/lib/python3.11/dist-packages (from prompt-toolkit<4.0.0,>=3.0.1->InquirerPy==0.3.4->huggingface_hub[cli]) (0.2.13)\n",
            "Downloading InquirerPy-0.3.4-py3-none-any.whl (67 kB)\n",
            "\u001b[2K   \u001b[90m━━━━━━━━━━━━━━━━━━━━━━━━━━━━━━━━━━━━━━━━\u001b[0m \u001b[32m67.7/67.7 kB\u001b[0m \u001b[31m3.1 MB/s\u001b[0m eta \u001b[36m0:00:00\u001b[0m\n",
            "\u001b[?25hDownloading huggingface_hub-0.33.4-py3-none-any.whl (515 kB)\n",
            "\u001b[2K   \u001b[90m━━━━━━━━━━━━━━━━━━━━━━━━━━━━━━━━━━━━━━━━\u001b[0m \u001b[32m515.3/515.3 kB\u001b[0m \u001b[31m12.9 MB/s\u001b[0m eta \u001b[36m0:00:00\u001b[0m\n",
            "\u001b[?25hDownloading pfzy-0.3.4-py3-none-any.whl (8.5 kB)\n",
            "Installing collected packages: pfzy, InquirerPy, huggingface_hub\n",
            "  Attempting uninstall: huggingface_hub\n",
            "    Found existing installation: huggingface-hub 0.33.2\n",
            "    Uninstalling huggingface-hub-0.33.2:\n",
            "      Successfully uninstalled huggingface-hub-0.33.2\n",
            "Successfully installed InquirerPy-0.3.4 huggingface_hub-0.33.4 pfzy-0.3.4\n"
          ]
        }
      ],
      "source": [
        "! pip install -U \"huggingface_hub[cli]\""
      ]
    },
    {
      "cell_type": "code",
      "execution_count": null,
      "metadata": {
        "colab": {
          "base_uri": "https://localhost:8080/",
          "height": 330,
          "referenced_widgets": [
            "f08c5395c64c4267958502adbd8f005f",
            "bf140c681e5c4a6db1211974e02025b2",
            "7ffddb3316bb4c26b5ebd1f6b94b4687",
            "c88a9104ee5c499f9790fc402838b9ed",
            "d11ea7c2b8034db18f1d1b4850966a22",
            "27bc1d9d8e1f4ca2883b404f0e4c32d9",
            "808c605918444836b0b807400cfef2fb",
            "1583d3c2b1234f91a8434c020a307374",
            "d4d0a968ecb945bd85f13193d1dc2a96",
            "ad7476ba6dcc49caa22cae9b0dfa116a",
            "d19f3afbf30a438bb49d6c61b2a1c64e",
            "5c6bece66752458996d7c9ed383ce35d",
            "4e6fd2d6c9864694b5d1c0afd3335e8d",
            "2d1042aa53284a299519299433171538",
            "3d085e781ba9420496f666924919092b",
            "d05a610513474242ad51ec9349aad8d1",
            "8c87fa335488414b9aa35e634eabe25c",
            "9764c33c49cf4c8cb4f6a8c0b6985129",
            "52ec945282044200b7e68dd456742c24",
            "3d74ec11c6a6434fb60c59596bcbf9fb",
            "560f10fad08945799b3044a6833d3235",
            "e9e7d74c1b324bb791936412a93473b5",
            "1e8939c0d3d2443ca2dd82f21c2f0739",
            "872f395707a54c2ca00cf4068fdc5aff",
            "d7d9665409a04ad58e5efd1df7dd4d63",
            "e47d9aaead6a41329310d8e2fa5d7014",
            "5940d4f08d89456fad56a23f50138284",
            "a7e88823793e4ef69bb9366c74416e21",
            "840b9a8284c6475d8005b4f8406fd0a3",
            "21fb24ba40dc488cb04b2350cbf7f330",
            "465bc3f437f9427c9067c79b2541310e",
            "1a62f33687a748a1bd67ffaeedb708d5",
            "80b1fa677cd44b9693d40bc1c67fb2ee",
            "63b81d158c5d42d5a4860ec53646fa8c",
            "f9e2359b09d94c98abfab4d5c0ec729b",
            "92842f71a2984bfe927ab50a86f9c493",
            "d200d6ce08fe42be86077232c5668678",
            "812af366e72144a8b4b0e0444e60bf02",
            "56a7862aa350472ab34e476e47c27aa8",
            "c7967b2820424f0bbaae6acd470323a4",
            "aa3ff20877c14025bc336ee7025b8adb",
            "db8e13c57bd14ef0a3d2d4e2f69a9150",
            "88fe3a525fbd4e7fa39960240893e05b",
            "6da3646af8b740a0b13fb8ee9837a268",
            "9485b45236a94d849633061b4538b42f",
            "32511bd143af421990474afe3a35f0d7",
            "2f4e65e5bbc94dc590bf19d642bbab97",
            "e4c140bc9ae84a48a3256dbb75773c1e",
            "7c4d7129855e4b03ac921b416b39b68a",
            "7258055679eb4a59a784abf01e579b33",
            "05287d75fbe744ed83c7b7fc64007810",
            "8107988862574d53aeb9a4509f413b4f",
            "108b33bbfb87469387d3987ac9344f59",
            "0f5c4e88d6a04d41b8b9271af5d7055d",
            "e18e3bfe383c495d93825ffaab27451c",
            "2065b58187c14bd58752b8fc027317c8",
            "cd8a5c6cfc414484b9384a3378acf028",
            "b08029d640954108ba065ce120ceb5b6",
            "c8aa81afa03543f383e6b73b964f7b7f",
            "a559d92b70834e33a9477543dd811429",
            "2f2b5adf5213496494c669c24652a155",
            "25a20548df624327b5d4b655f3532aad",
            "1f6690881f704854b96f503d19c935a1",
            "1e4a595b0a2e4378b2b9884120065a20",
            "1e176464ec1145948447316fe2053b85",
            "6a6194470add4cb9afc46937ce3a1228",
            "691b3c1c8d274cf8bb9990c674ad6eb0",
            "f2d714f4360b443bac082d1e7fbc72f0",
            "b276b7732ca6490bb20639205c3ef599",
            "51450a21c7c943d4814bff76a24a69bd",
            "9c63f9ff010f473c86e66e59d1a8a870",
            "b850301058f64c1380bbab9cf44e9de9",
            "01ce34a44e214c0f8fa0befc3af62085",
            "0730801777724120b00bb5d7e9b5284e",
            "84f82d4493b34b5e887461d060de94f7",
            "2f80f5b79b2e4fbd8d0293b805f83da4",
            "67429dba96b2458ebb5f94078cc7a679"
          ]
        },
        "id": "Lwi3pZWdZWIJ",
        "outputId": "a4a03636-6b2a-403e-a47f-9b72fd8bdf1c"
      },
      "outputs": [
        {
          "name": "stderr",
          "output_type": "stream",
          "text": [
            "/usr/local/lib/python3.11/dist-packages/transformers/models/auto/tokenization_auto.py:934: FutureWarning: The `use_auth_token` argument is deprecated and will be removed in v5 of Transformers. Please use `token` instead.\n",
            "  warnings.warn(\n"
          ]
        },
        {
          "data": {
            "application/vnd.jupyter.widget-view+json": {
              "model_id": "f08c5395c64c4267958502adbd8f005f",
              "version_major": 2,
              "version_minor": 0
            },
            "text/plain": [
              "tokenizer_config.json: 0.00B [00:00, ?B/s]"
            ]
          },
          "metadata": {},
          "output_type": "display_data"
        },
        {
          "data": {
            "application/vnd.jupyter.widget-view+json": {
              "model_id": "5c6bece66752458996d7c9ed383ce35d",
              "version_major": 2,
              "version_minor": 0
            },
            "text/plain": [
              "tokenizer.model:   0%|          | 0.00/500k [00:00<?, ?B/s]"
            ]
          },
          "metadata": {},
          "output_type": "display_data"
        },
        {
          "data": {
            "application/vnd.jupyter.widget-view+json": {
              "model_id": "1e8939c0d3d2443ca2dd82f21c2f0739",
              "version_major": 2,
              "version_minor": 0
            },
            "text/plain": [
              "tokenizer.json: 0.00B [00:00, ?B/s]"
            ]
          },
          "metadata": {},
          "output_type": "display_data"
        },
        {
          "data": {
            "application/vnd.jupyter.widget-view+json": {
              "model_id": "63b81d158c5d42d5a4860ec53646fa8c",
              "version_major": 2,
              "version_minor": 0
            },
            "text/plain": [
              "special_tokens_map.json:   0%|          | 0.00/551 [00:00<?, ?B/s]"
            ]
          },
          "metadata": {},
          "output_type": "display_data"
        },
        {
          "name": "stderr",
          "output_type": "stream",
          "text": [
            "/usr/local/lib/python3.11/dist-packages/transformers/models/auto/auto_factory.py:492: FutureWarning: The `use_auth_token` argument is deprecated and will be removed in v5 of Transformers. Please use `token` instead.\n",
            "  warnings.warn(\n"
          ]
        },
        {
          "data": {
            "application/vnd.jupyter.widget-view+json": {
              "model_id": "9485b45236a94d849633061b4538b42f",
              "version_major": 2,
              "version_minor": 0
            },
            "text/plain": [
              "config.json:   0%|          | 0.00/608 [00:00<?, ?B/s]"
            ]
          },
          "metadata": {},
          "output_type": "display_data"
        },
        {
          "data": {
            "application/vnd.jupyter.widget-view+json": {
              "model_id": "2065b58187c14bd58752b8fc027317c8",
              "version_major": 2,
              "version_minor": 0
            },
            "text/plain": [
              "model.safetensors:   0%|          | 0.00/2.20G [00:00<?, ?B/s]"
            ]
          },
          "metadata": {},
          "output_type": "display_data"
        },
        {
          "data": {
            "application/vnd.jupyter.widget-view+json": {
              "model_id": "691b3c1c8d274cf8bb9990c674ad6eb0",
              "version_major": 2,
              "version_minor": 0
            },
            "text/plain": [
              "generation_config.json:   0%|          | 0.00/124 [00:00<?, ?B/s]"
            ]
          },
          "metadata": {},
          "output_type": "display_data"
        }
      ],
      "source": [
        "from transformers import AutoTokenizer, AutoModelForCausalLM\n",
        "import torch\n",
        "\n",
        "token = os.environ[\"HUGGINGFACE_TOKEN\"]\n",
        "model_id = \"TinyLlama/TinyLlama-1.1B-Chat-v1.0\"\n",
        "\n",
        "tokenizer = AutoTokenizer.from_pretrained(model_id, use_auth_token=token)\n",
        "model = AutoModelForCausalLM.from_pretrained(model_id, use_auth_token=token)\n"
      ]
    },
    {
      "cell_type": "code",
      "execution_count": null,
      "metadata": {
        "id": "Vtc3SjnmWiAB"
      },
      "outputs": [],
      "source": [
        "paragraph = \"\"\"\n",
        "Remote work improves employee productivity. People working remotely often report fewer distractions and better focus. EVs have zero tailpipe emissions. Most EVs are charged with electricity generated from fossil fuels. AI-generated images mimic style but lack original thought. 3D-printed organs could reduce transplant wait times.\n",
        "\"\"\""
      ]
    },
    {
      "cell_type": "code",
      "execution_count": null,
      "metadata": {
        "id": "ua8l5FCDWxQq"
      },
      "outputs": [],
      "source": [
        "import re\n",
        "import json\n",
        "import torch\n",
        "\n",
        "def split_into_sentences(text):\n",
        "    return re.split(r'(?<=[.!?])\\s+', text.strip())\n",
        "\n",
        "sentences = split_into_sentences(paragraph)"
      ]
    },
    {
      "cell_type": "code",
      "execution_count": null,
      "metadata": {
        "id": "QDbhthORbKZ3"
      },
      "outputs": [],
      "source": [
        "def run_prompt(prompt, max_new_tokens=10):\n",
        "    try:\n",
        "        inputs = tokenizer(prompt, return_tensors=\"pt\")\n",
        "        with torch.no_grad():\n",
        "            outputs = model.generate(\n",
        "                **inputs,\n",
        "                max_new_tokens=max_new_tokens,\n",
        "                pad_token_id=tokenizer.eos_token_id\n",
        "            )\n",
        "        result = tokenizer.decode(outputs[0], skip_special_tokens=True)\n",
        "        return result[len(prompt):].strip()\n",
        "    except Exception as e:\n",
        "        print(f\"⚠️ LLM failed: {e}\")\n",
        "        return \"premise\"  # Fallback"
      ]
    },
    {
      "cell_type": "code",
      "execution_count": null,
      "metadata": {
        "colab": {
          "base_uri": "https://localhost:8080/"
        },
        "id": "km79tRl_cVVS",
        "outputId": "292a3228-d8b7-4ab6-8973-64e7f372d00b"
      },
      "outputs": [
        {
          "name": "stdout",
          "output_type": "stream",
          "text": [
            "[\n",
            "  {\n",
            "    \"text\": \"Remote work improves employee productivity.\",\n",
            "    \"type\": \"premise\"\n",
            "  },\n",
            "  {\n",
            "    \"text\": \"People working remotely often report fewer distractions and better focus.\",\n",
            "    \"type\": \"premise\"\n",
            "  },\n",
            "  {\n",
            "    \"text\": \"EVs have zero tailpipe emissions.\",\n",
            "    \"type\": \"claim\"\n",
            "  },\n",
            "  {\n",
            "    \"text\": \"Most EVs are charged with electricity generated from fossil fuels.\",\n",
            "    \"type\": \"claim\"\n",
            "  },\n",
            "  {\n",
            "    \"text\": \"AI-generated images mimic style but lack original thought.\",\n",
            "    \"type\": \"claim\"\n",
            "  },\n",
            "  {\n",
            "    \"text\": \"3D-printed organs could reduce transplant wait times.\",\n",
            "    \"type\": \"claim\"\n",
            "  }\n",
            "]\n"
          ]
        }
      ],
      "source": [
        "# STEP 6: Classification loop\n",
        "classified = []\n",
        "claims = []\n",
        "\n",
        "for s in sentences:\n",
        "    prompt = f\"Classify the following sentence as either a 'claim' or a 'premise':\\n\\\"{s}\\\"\\nAnswer:\"\n",
        "    response = run_prompt(prompt)\n",
        "    label = \"claim\" if \"claim\" in response.lower() else \"premise\"\n",
        "    entry = {\"text\": s, \"type\": label}\n",
        "    classified.append(entry)\n",
        "    if label == \"claim\":\n",
        "        claims.append(s)\n",
        "\n",
        "# STEP 7: Output as structured JSON\n",
        "print(json.dumps(classified, indent=2))"
      ]
    },
    {
      "cell_type": "code",
      "execution_count": 22,
      "metadata": {
        "id": "PzORVoKsgR2g"
      },
      "outputs": [],
      "source": [
        "# Step: Convert to structured format\n",
        "structured_output = {\n",
        "    \"claims\": [{\"text\": entry[\"text\"]} for entry in classified if entry[\"type\"] == \"claim\"],\n",
        "    \"premises\": [{\"text\": entry[\"text\"]} for entry in classified if entry[\"type\"] == \"premise\"]\n",
        "}"
      ]
    },
    {
      "cell_type": "code",
      "execution_count": 23,
      "metadata": {
        "colab": {
          "base_uri": "https://localhost:8080/"
        },
        "id": "II2T7vtbgTPb",
        "outputId": "a743daa5-a55e-4d8a-e57f-5824e44890b1"
      },
      "outputs": [
        {
          "name": "stdout",
          "output_type": "stream",
          "text": [
            "{\n",
            "  \"claims\": [\n",
            "    {\n",
            "      \"text\": \"EVs have zero tailpipe emissions.\"\n",
            "    },\n",
            "    {\n",
            "      \"text\": \"Most EVs are charged with electricity generated from fossil fuels.\"\n",
            "    },\n",
            "    {\n",
            "      \"text\": \"AI-generated images mimic style but lack original thought.\"\n",
            "    },\n",
            "    {\n",
            "      \"text\": \"3D-printed organs could reduce transplant wait times.\"\n",
            "    }\n",
            "  ],\n",
            "  \"premises\": [\n",
            "    {\n",
            "      \"text\": \"Remote work improves employee productivity.\"\n",
            "    },\n",
            "    {\n",
            "      \"text\": \"People working remotely often report fewer distractions and better focus.\"\n",
            "    }\n",
            "  ]\n",
            "}\n"
          ]
        }
      ],
      "source": [
        "print(json.dumps(structured_output, indent=2))"
      ]
    }
  ],
  "metadata": {
    "colab": {
      "provenance": []
    },
    "kernelspec": {
      "display_name": "Python 3",
      "name": "python3"
    },
    "language_info": {
      "name": "python"
    }
  },
  "nbformat": 4,
  "nbformat_minor": 0
}

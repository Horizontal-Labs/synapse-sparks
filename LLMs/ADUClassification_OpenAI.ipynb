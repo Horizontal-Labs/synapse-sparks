{
  "nbformat": 4,
  "nbformat_minor": 0,
  "metadata": {
    "colab": {
      "provenance": [],
      "machine_shape": "hm",
      "gpuType": "L4"
    },
    "kernelspec": {
      "name": "python3",
      "display_name": "Python 3"
    },
    "language_info": {
      "name": "python"
    },
    "accelerator": "GPU"
  },
  "cells": [
    {
      "cell_type": "code",
      "execution_count": 1,
      "metadata": {
        "id": "XOh9RifUsvnW"
      },
      "outputs": [],
      "source": [
        "import openai\n",
        "import json\n",
        "import os\n",
        "from getpass import getpass"
      ]
    },
    {
      "cell_type": "code",
      "source": [
        "api_key = getpass(\"🔐 Enter your OpenAI API key: \")\n",
        "client = openai.OpenAI(api_key=api_key)"
      ],
      "metadata": {
        "colab": {
          "base_uri": "https://localhost:8080/"
        },
        "id": "kr_Xv4Sws5s5",
        "outputId": "27b6486e-0220-4f5a-c529-6584e3d53127"
      },
      "execution_count": 8,
      "outputs": [
        {
          "name": "stdout",
          "output_type": "stream",
          "text": [
            "🔐 Enter your OpenAI API key: ··········\n"
          ]
        }
      ]
    },
    {
      "cell_type": "code",
      "source": [
        "import openai\n",
        "print(openai.__version__)\n"
      ],
      "metadata": {
        "colab": {
          "base_uri": "https://localhost:8080/"
        },
        "id": "1dAgg2cPvwdr",
        "outputId": "63a33408-865b-4596-d3af-a3481c2c7451"
      },
      "execution_count": 14,
      "outputs": [
        {
          "output_type": "stream",
          "name": "stdout",
          "text": [
            "1.93.3\n"
          ]
        }
      ]
    },
    {
      "cell_type": "markdown",
      "source": [],
      "metadata": {
        "id": "p6lYS9MBuoEi"
      }
    },
    {
      "cell_type": "markdown",
      "source": [],
      "metadata": {
        "id": "C_9qB5Mlt_Y_"
      }
    },
    {
      "cell_type": "code",
      "source": [
        "paragraph = \"\"\"Remote work improves employee productivity. People working remotely often report fewer distractions and better focus.\n",
        "EVs have zero tailpipe emissions. Most EVs are charged with electricity generated from fossil fuels.\n",
        "AI-generated images mimic style but lack original thought. 3D-printed organs could reduce transplant wait times.\"\"\"\n",
        "\n",
        "import re\n",
        "def split_into_sentences(text):\n",
        "    return re.split(r'(?<=[.!?])\\s+', text.strip())\n",
        "\n",
        "sentences = split_into_sentences(paragraph)\n"
      ],
      "metadata": {
        "id": "6BQ5HBHVtAFa"
      },
      "execution_count": 9,
      "outputs": []
    },
    {
      "cell_type": "code",
      "source": [
        "\n",
        "system_prompt = \"\"\"\n",
        "You are an assistant for argument mining.\n",
        "Classify the following sentence as either a 'claim' or a 'premise'.\n",
        "Only return one word: claim or premise.\n",
        "\"\"\"\n",
        "\n",
        "def classify_sentence_openai(sentence, model=\"gpt-4-turbo\"):\n",
        "    user_prompt = f'Sentence: \"{sentence}\"\\nWhat is it?'\n",
        "    try:\n",
        "        response = client.chat.completions.create(\n",
        "            model=model,\n",
        "            messages=[\n",
        "                {\"role\": \"system\", \"content\": system_prompt.strip()},\n",
        "                {\"role\": \"user\", \"content\": user_prompt.strip()}\n",
        "            ],\n",
        "            temperature=0.2\n",
        "        )\n",
        "        return response.choices[0].message.content.strip().lower()\n",
        "    except Exception as e:\n",
        "        print(f\"❌ Model {model} failed: {e}\")\n",
        "        if model != \"gpt-3.5-turbo\":\n",
        "            return classify_sentence_openai(sentence, model=\"gpt-3.5-turbo\")\n",
        "        return \"premise\"  # fallback"
      ],
      "metadata": {
        "id": "GOg6OXChtFro"
      },
      "execution_count": 15,
      "outputs": []
    },
    {
      "cell_type": "code",
      "source": [
        "classified = []\n",
        "claims = []\n",
        "\n",
        "for s in sentences:\n",
        "    label = classify_sentence_openai(s)\n",
        "    classified.append({\"text\": s, \"type\": label})\n",
        "    if label == \"claim\":\n",
        "        claims.append(s)\n"
      ],
      "metadata": {
        "colab": {
          "base_uri": "https://localhost:8080/"
        },
        "id": "ussSDLqntOdG",
        "outputId": "42894565-97f0-4627-cbec-a83fa50d221f"
      },
      "execution_count": 13,
      "outputs": [
        {
          "output_type": "stream",
          "name": "stdout",
          "text": [
            "❌ OpenAI call failed: Error code: 404 - {'error': {'message': 'The model `gpt-4-turbo` does not exist or you do not have access to it.', 'type': 'invalid_request_error', 'param': None, 'code': 'model_not_found'}}\n",
            "❌ OpenAI call failed: Error code: 404 - {'error': {'message': 'The model `gpt-4-turbo` does not exist or you do not have access to it.', 'type': 'invalid_request_error', 'param': None, 'code': 'model_not_found'}}\n",
            "❌ OpenAI call failed: Error code: 404 - {'error': {'message': 'The model `gpt-4-turbo` does not exist or you do not have access to it.', 'type': 'invalid_request_error', 'param': None, 'code': 'model_not_found'}}\n",
            "❌ OpenAI call failed: Error code: 404 - {'error': {'message': 'The model `gpt-4-turbo` does not exist or you do not have access to it.', 'type': 'invalid_request_error', 'param': None, 'code': 'model_not_found'}}\n",
            "❌ OpenAI call failed: Error code: 404 - {'error': {'message': 'The model `gpt-4-turbo` does not exist or you do not have access to it.', 'type': 'invalid_request_error', 'param': None, 'code': 'model_not_found'}}\n",
            "❌ OpenAI call failed: Error code: 404 - {'error': {'message': 'The model `gpt-4-turbo` does not exist or you do not have access to it.', 'type': 'invalid_request_error', 'param': None, 'code': 'model_not_found'}}\n"
          ]
        }
      ]
    }
  ]
}